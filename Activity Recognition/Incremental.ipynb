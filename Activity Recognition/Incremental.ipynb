{
 "cells": [
  {
   "cell_type": "code",
   "execution_count": 1,
   "metadata": {},
   "outputs": [],
   "source": [
    "from creme.neighbors import KNeighborsClassifier\n",
    "from creme.tree import DecisionTreeClassifier\n",
    "from creme.preprocessing import StandardScaler\n",
    "from creme.metrics import MSE,Accuracy, F1, LogLoss,MultiFBeta\n",
    "import pandas\n",
    "from sqlalchemy import create_engine\n",
    "from creme.compose import Pipeline\n",
    "import time\n",
    "import matplotlib.pyplot as plt\n",
    "import requests\n",
    "import logging\n",
    "import logging.handlers\n",
    "import mysql.connector\n",
    "import tqdm"
   ]
  },
  {
   "cell_type": "code",
   "execution_count": 2,
   "metadata": {},
   "outputs": [],
   "source": [
    "dataPackageLimit = 100000\n",
    "tableName = \"accelerometer\"\n",
    "phoneType = \"s3mini\"\n",
    "\n",
    "db = mysql.connector.connect(\n",
    "\thost=\"localhost\",\n",
    "    user=\"root\",\n",
    "    passwd=\"\",\n",
    "    db=\"tez\"\n",
    ")\n",
    "\n",
    "\n",
    "cur = db.cursor()\n",
    "cur.execute(\"select count(*) from \" + tableName + \" where Model = '\" + phoneType + \"'\")\n",
    "tableSize = int(cur.fetchone()[0])\n",
    "cur.close()\n",
    "del db\n",
    "\n",
    "stepNumber = int(tableSize / dataPackageLimit)"
   ]
  },
  {
   "cell_type": "code",
   "execution_count": 3,
   "metadata": {},
   "outputs": [],
   "source": [
    "logging.basicConfig(filename='ActivityRecogIncremental.log',\n",
    "                            filemode='a',\n",
    "                            format='%(asctime)s,%(msecs)d %(name)s %(levelname)s %(message)s',\n",
    "                            datefmt='%m/%d/%Y %H:%M:%S',\n",
    "                            level=logging.INFO)\n",
    "logging.info(\"Creating connection\")\n",
    "engine = create_engine('mysql+pymysql://root:@localhost/tez')\n",
    "logging.info(\"Connection is ready\")"
   ]
  },
  {
   "cell_type": "code",
   "execution_count": 4,
   "metadata": {},
   "outputs": [],
   "source": [
    "n = 5\n",
    "metrics = (\n",
    "    Accuracy(),\n",
    "    MultiFBeta(betas=({'bike':1, 'null':1, 'sit':1, 'stairsdown':1, 'stairsup':1, 'stand':1, 'walk':1}))\n",
    ")\n",
    "\n",
    "\n",
    "\n",
    "model = (\n",
    "     StandardScaler() |\n",
    "     DecisionTreeClassifier()\n",
    ")\n",
    "logging.info(\"Initial model created for phone type \" + phoneType)"
   ]
  },
  {
   "cell_type": "code",
   "execution_count": 5,
   "metadata": {},
   "outputs": [
    {
     "output_type": "stream",
     "name": "stderr",
     "text": "0%|          | 0/4 [00:00<?, ?it/s]\n0it [00:00, ?it/s]\n 25%|██▌       | 1/4 [00:00<00:01,  1.98it/s]\n0it [00:00, ?it/s]\n 50%|█████     | 2/4 [00:00<00:00,  2.10it/s]\n0it [00:00, ?it/s]\n 75%|███████▌  | 3/4 [00:01<00:00,  2.19it/s]\n0it [00:00, ?it/s]\n100%|██████████| 4/4 [00:07<00:00,  1.75s/it]\n"
    }
   ],
   "source": [
    "previousTime = None\n",
    "logging.info(\"Learning stage started with total step of \" + str(stepNumber))\n",
    "for step in tqdm.tqdm(range(stepNumber+1)):\n",
    "    logging.info(\"Data retrieved at step \" + str(step+1) + \"/\" + str(stepNumber))\n",
    "    if step < stepNumber:\n",
    "        query = \"select * from \" + tableName + \" where Model = '\" + phoneType + \"' and id >= \" + str(step * dataPackageLimit) + \" and id <= \" + str((step+1) * dataPackageLimit)\n",
    "    else:\n",
    "        query = \"select * from \" + tableName + \" where Model = '\" + phoneType + \"' and id < \" + str(stepNumber * dataPackageLimit)\n",
    "    df = pandas.read_sql(query, engine)\n",
    "    df = df.drop(\"id\", axis=1)\n",
    "    df = df.drop('Arrival_Time', axis=1)\n",
    "    df = df.drop(\"Model\", axis=1)\n",
    "    x = df.drop(\"gt\", axis=1).to_dict(orient=\"row\")\n",
    "    y = list(df[\"gt\"])\n",
    "\n",
    "    window = [] #  [ (x_1,y_1,z_1), (x_2,y_2,z_2), .... ]\n",
    "    for row, target in tqdm.tqdm(zip(x, y)):\n",
    "        if len(window) < n:\n",
    "            window.append((row[\"x\"], row[\"y\"], row[\"z\"]))\n",
    "            continue\n",
    "        for i in range(n):\n",
    "            row.update({\"x_\" + str(i): window[i][0]})\n",
    "            row.update({\"y_\" + str(i): window[i][1]})\n",
    "            row.update({\"z_\" + str(i): window[i][2]})\n",
    "\n",
    "        for i in range(n-1):\n",
    "            window[i] = window[i+1]\n",
    "        window[-1] = (row[\"x\"], row[\"y\"], row[\"z\"])  \n",
    "        \n",
    "        y_pred = model.predict_one(row)\n",
    "        model.fit_one(row, target)\n",
    "        if y_pred is None:\n",
    "            continue\n",
    "        for metric in metrics:\n",
    "            metric.update(target, y_pred)\n",
    "            #print(metric.get(), end=\" \")\n",
    "        requests.get('http://localhost:7070/elderlySensor/1/incremental/acc/' + str(metrics[0].get() * 100))\n",
    "logging.info(\"Learning stage is done\")\n",
    "logging.info(\"Test stage started\")"
   ]
  },
  {
   "cell_type": "code",
   "execution_count": 6,
   "metadata": {},
   "outputs": [],
   "source": [
    "engine = create_engine('mysql+pymysql://root:@localhost/tez')\n",
    "logging.info(\"New connection for test stage established\")\n",
    "\n",
    "limitForEachClass = 100\n",
    "classNames = [\"bike\", \"null\", \"sit\", \"stairsdown\", \"stairup\", \"stand\", \"walk\"]\n",
    "logging.info(\"Test stage has \" + str(limitForEachClass) + \" records for each class from \" + str(len(classNames)) + \" different classes\")"
   ]
  },
  {
   "cell_type": "code",
   "execution_count": 7,
   "metadata": {},
   "outputs": [],
   "source": [
    "bigDf = None\n",
    "for i in range(len(classNames)):\n",
    "    query = \"select x,y,z,gt from accelerometer a  where a.Model = '\" + phoneType + \"' and a.gt = '\" + classNames[i] + \"' limit \" + str(limitForEachClass)\n",
    "    df = pandas.read_sql(query, engine)\n",
    "    for i in range(1, n+1):\n",
    "        df[\"x_\" + str(i)] = None\n",
    "        df[\"y_\" + str(i)] = None\n",
    "        df[\"z_\" + str(i)] = None\n",
    "    for i in range(n, len(df)):\n",
    "        for j in range(1, n+1):\n",
    "            df.loc[i, 'x_' + str(j)] = df.loc[i-j, 'x']\n",
    "            df.loc[i, 'y_' + str(j)] = df.loc[i-j, 'y']\n",
    "            df.loc[i, 'z_' + str(j)] = df.loc[i-j, 'z']\n",
    "    df = df.dropna(subset=[\"x_1\"])\n",
    "    if type(bigDf) == None:\n",
    "        bigDf = df\n",
    "    else:\n",
    "        bigDf = pandas.concat([bigDf, df])     \n",
    "logging.info(\"Test data set has been created\")"
   ]
  },
  {
   "cell_type": "code",
   "execution_count": 8,
   "metadata": {},
   "outputs": [],
   "source": [
    "metrics = (\n",
    "    Accuracy(),\n",
    "    MultiFBeta(betas=({'bike':1, 'null':1, 'sit':1, 'stairsdown':1, 'stairsup':1, 'stand':1, 'walk':1}))\n",
    ")\n",
    "logging.info(\"Metrics are reset\")\n",
    "bigDf = bigDf.reset_index()\n",
    "X = bigDf.drop(\"gt\", axis=1)\n",
    "y = list(bigDf[\"gt\"])"
   ]
  },
  {
   "cell_type": "code",
   "execution_count": 9,
   "metadata": {},
   "outputs": [],
   "source": [
    "logging.info(\"Test results have been started to send to Grafana\")\n",
    "for i in range(len(y)):\n",
    "    row = X.iloc[i]\n",
    "    y_pred = model.predict_one(row)\n",
    "    y_real = y[i] \n",
    "    if y_pred is None:\n",
    "        continue\n",
    "    for metric in metrics:\n",
    "        metric.update(y_real, y_pred)\n",
    "    requests.get('http://localhost:7070/elderlySensor/1/incremental/acc/' + str(metrics[0].get() * 100))\n",
    "logging.info(\"All processes are done\")"
   ]
  }
 ],
 "metadata": {
  "language_info": {
   "codemirror_mode": {
    "name": "ipython",
    "version": 3
   },
   "file_extension": ".py",
   "mimetype": "text/x-python",
   "name": "python",
   "nbconvert_exporter": "python",
   "pygments_lexer": "ipython3",
   "version": "3.7.3-final"
  },
  "orig_nbformat": 2,
  "kernelspec": {
   "name": "python37364bit3935188d8af24a32955a3c0f792533a7",
   "display_name": "Python 3.7.3 64-bit"
  }
 },
 "nbformat": 4,
 "nbformat_minor": 2
}